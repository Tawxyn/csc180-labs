{
 "cells": [
  {
   "cell_type": "code",
   "execution_count": 1,
   "id": "641fab89",
   "metadata": {},
   "outputs": [],
   "source": [
    "import os\n",
    "import joblib\n",
    "import tkinter as tk\n",
    "from tkinter import ttk, messagebox\n",
    "import pandas as pd\n",
    "from sklearn.linear_model import LinearRegression\n",
    "from sklearn.preprocessing import OneHotEncoder, OrdinalEncoder\n",
    "from sklearn.compose import ColumnTransformer\n",
    "from sklearn.pipeline import Pipeline"
   ]
  },
  {
   "cell_type": "code",
   "execution_count": 2,
   "id": "3efd493a",
   "metadata": {},
   "outputs": [],
   "source": [
    "CSV_PATH = \"carprices4.csv\"\n",
    "DUMMY_PATH = \"model_dummy_pipeline.joblib\"\n",
    "LABEL_OHE_PATH = \"model_label_ohe_pipeline.joblib\""
   ]
  },
  {
   "cell_type": "code",
   "execution_count": 3,
   "id": "93daba89",
   "metadata": {},
   "outputs": [],
   "source": [
    "# Train the Dummy-variables pipeline drop generic car_model column\n",
    "def train_dummy_pipeline(csv_path=CSV_PATH, dump_path=DUMMY_PATH, save=True):\n",
    "    df = pd.read_csv(csv_path)\n",
    "    X = df[[\"Car Model\", \"Mileage\", \"Age(yrs)\"]]\n",
    "    y = df[\"Sell Price($)\"]\n",
    "\n",
    "    pre = ColumnTransformer(\n",
    "        transformers=[(\"cat\", OneHotEncoder(handle_unknown=\"ignore\", drop=\"first\", sparse_output=False), [\"Car Model\"])],\n",
    "        remainder=\"passthrough\"\n",
    "    )\n",
    "    pipe = Pipeline([(\"pre\", pre), (\"est\", LinearRegression())]).fit(X, y)\n",
    "\n",
    "    if save and dump_path:\n",
    "        joblib.dump(pipe, dump_path)\n",
    "    return pipe\n"
   ]
  },
  {
   "cell_type": "code",
   "execution_count": null,
   "id": "fd8e4bf9",
   "metadata": {},
   "outputs": [],
   "source": [
    "# Train the Label One-Hot pipeline (label codes, then dummy columns, drop first)\n",
    "def train_label_then_ohe_pipeline(csv_path=CSV_PATH, dump_path=LABEL_OHE_PATH, save=True):\n",
    "    df = pd.read_csv(csv_path)\n",
    "    X = df[[\"Car Model\", \"Mileage\", \"Age(yrs)\"]]\n",
    "    y = df[\"Sell Price($)\"]\n",
    "\n",
    "    cat_pipe = Pipeline([\n",
    "        (\"label\", OrdinalEncoder(handle_unknown=\"use_encoded_value\", unknown_value=-1)),\n",
    "        (\"ohe\", OneHotEncoder(handle_unknown=\"ignore\", drop=\"first\", sparse_output=False)),\n",
    "    ])\n",
    "    pre = ColumnTransformer([(\"cat\", cat_pipe, [\"Car Model\"])], remainder=\"passthrough\")\n",
    "    pipe = Pipeline([(\"pre\", pre), (\"est\", LinearRegression())]).fit(X, y)\n",
    "\n",
    "    if save and dump_path:\n",
    "        joblib.dump(pipe, dump_path)\n",
    "    return pipe\n",
    "    "
   ]
  },
  {
   "cell_type": "code",
   "execution_count": 5,
   "id": "8394f56f",
   "metadata": {},
   "outputs": [],
   "source": [
    "# Try to load a saved pipeline\n",
    "def _load_or_retrain(path, trainer, df_for_probe):\n",
    "    if not os.path.exists(path):\n",
    "        return trainer()\n",
    "    try:\n",
    "        pipe = joblib.load(path)\n",
    "        probe = df_for_probe.iloc[[0]][[\"Car Model\", \"Mileage\", \"Age(yrs)\"]]\n",
    "        _ = pipe.predict(probe)\n",
    "        return pipe\n",
    "    except Exception as e:\n",
    "        print(f\"[warn] Rebuilding {path} due to: {e}\")\n",
    "        return trainer()"
   ]
  },
  {
   "cell_type": "code",
   "execution_count": 6,
   "id": "de3b6ade",
   "metadata": {},
   "outputs": [],
   "source": [
    "# Make sure both pipelines exist and are usable\n",
    "def ensure_pipelines():\n",
    "    df_probe = pd.read_csv(CSV_PATH)\n",
    "    pipe_dummy = _load_or_retrain(DUMMY_PATH, train_dummy_pipeline, df_probe)\n",
    "    pipe_label = _load_or_retrain(LABEL_OHE_PATH, train_label_then_ohe_pipeline, df_probe)\n",
    "    return pipe_dummy, pipe_label"
   ]
  },
  {
   "cell_type": "code",
   "execution_count": 7,
   "id": "9e405401",
   "metadata": {},
   "outputs": [
    {
     "ename": "TypeError",
     "evalue": "OneHotEncoder.__init__() got an unexpected keyword argument 'sparse'",
     "output_type": "error",
     "traceback": [
      "\u001b[0;31m---------------------------------------------------------------------------\u001b[0m",
      "\u001b[0;31mTypeError\u001b[0m                                 Traceback (most recent call last)",
      "Cell \u001b[0;32mIn[7], line 2\u001b[0m\n\u001b[1;32m      1\u001b[0m \u001b[38;5;66;03m#Build both pipelines\u001b[39;00m\n\u001b[0;32m----> 2\u001b[0m PIPE_DUMMY, PIPE_LABEL \u001b[38;5;241m=\u001b[39m \u001b[43mensure_pipelines\u001b[49m\u001b[43m(\u001b[49m\u001b[43m)\u001b[49m\n\u001b[1;32m      4\u001b[0m \u001b[38;5;66;03m# Read CSV once to make drop down list\u001b[39;00m\n\u001b[1;32m      5\u001b[0m DF_ALL \u001b[38;5;241m=\u001b[39m pd\u001b[38;5;241m.\u001b[39mread_csv(CSV_PATH)\n",
      "Cell \u001b[0;32mIn[6], line 5\u001b[0m, in \u001b[0;36mensure_pipelines\u001b[0;34m()\u001b[0m\n\u001b[1;32m      3\u001b[0m df_probe \u001b[38;5;241m=\u001b[39m pd\u001b[38;5;241m.\u001b[39mread_csv(CSV_PATH)\n\u001b[1;32m      4\u001b[0m pipe_dummy \u001b[38;5;241m=\u001b[39m _load_or_retrain(DUMMY_PATH, train_dummy_pipeline, df_probe)\n\u001b[0;32m----> 5\u001b[0m pipe_label \u001b[38;5;241m=\u001b[39m \u001b[43m_load_or_retrain\u001b[49m\u001b[43m(\u001b[49m\u001b[43mLABEL_OHE_PATH\u001b[49m\u001b[43m,\u001b[49m\u001b[43m \u001b[49m\u001b[43mtrain_label_then_ohe_pipeline\u001b[49m\u001b[43m,\u001b[49m\u001b[43m \u001b[49m\u001b[43mdf_probe\u001b[49m\u001b[43m)\u001b[49m\n\u001b[1;32m      6\u001b[0m \u001b[38;5;28;01mreturn\u001b[39;00m pipe_dummy, pipe_label\n",
      "Cell \u001b[0;32mIn[5], line 4\u001b[0m, in \u001b[0;36m_load_or_retrain\u001b[0;34m(path, trainer, df_for_probe)\u001b[0m\n\u001b[1;32m      2\u001b[0m \u001b[38;5;28;01mdef\u001b[39;00m\u001b[38;5;250m \u001b[39m\u001b[38;5;21m_load_or_retrain\u001b[39m(path, trainer, df_for_probe):\n\u001b[1;32m      3\u001b[0m     \u001b[38;5;28;01mif\u001b[39;00m \u001b[38;5;129;01mnot\u001b[39;00m os\u001b[38;5;241m.\u001b[39mpath\u001b[38;5;241m.\u001b[39mexists(path):\n\u001b[0;32m----> 4\u001b[0m         \u001b[38;5;28;01mreturn\u001b[39;00m \u001b[43mtrainer\u001b[49m\u001b[43m(\u001b[49m\u001b[43m)\u001b[49m\n\u001b[1;32m      5\u001b[0m     \u001b[38;5;28;01mtry\u001b[39;00m:\n\u001b[1;32m      6\u001b[0m         pipe \u001b[38;5;241m=\u001b[39m joblib\u001b[38;5;241m.\u001b[39mload(path)\n",
      "Cell \u001b[0;32mIn[4], line 9\u001b[0m, in \u001b[0;36mtrain_label_then_ohe_pipeline\u001b[0;34m(csv_path, dump_path, save)\u001b[0m\n\u001b[1;32m      4\u001b[0m X \u001b[38;5;241m=\u001b[39m df[[\u001b[38;5;124m\"\u001b[39m\u001b[38;5;124mCar Model\u001b[39m\u001b[38;5;124m\"\u001b[39m, \u001b[38;5;124m\"\u001b[39m\u001b[38;5;124mMileage\u001b[39m\u001b[38;5;124m\"\u001b[39m, \u001b[38;5;124m\"\u001b[39m\u001b[38;5;124mAge(yrs)\u001b[39m\u001b[38;5;124m\"\u001b[39m]]\n\u001b[1;32m      5\u001b[0m y \u001b[38;5;241m=\u001b[39m df[\u001b[38;5;124m\"\u001b[39m\u001b[38;5;124mSell Price($)\u001b[39m\u001b[38;5;124m\"\u001b[39m]\n\u001b[1;32m      7\u001b[0m cat_pipe \u001b[38;5;241m=\u001b[39m Pipeline([\n\u001b[1;32m      8\u001b[0m     (\u001b[38;5;124m\"\u001b[39m\u001b[38;5;124mlabel\u001b[39m\u001b[38;5;124m\"\u001b[39m, OrdinalEncoder(handle_unknown\u001b[38;5;241m=\u001b[39m\u001b[38;5;124m\"\u001b[39m\u001b[38;5;124muse_encoded_value\u001b[39m\u001b[38;5;124m\"\u001b[39m, unknown_value\u001b[38;5;241m=\u001b[39m\u001b[38;5;241m-\u001b[39m\u001b[38;5;241m1\u001b[39m)),\n\u001b[0;32m----> 9\u001b[0m     (\u001b[38;5;124m\"\u001b[39m\u001b[38;5;124mohe\u001b[39m\u001b[38;5;124m\"\u001b[39m, \u001b[43mOneHotEncoder\u001b[49m\u001b[43m(\u001b[49m\u001b[43mhandle_unknown\u001b[49m\u001b[38;5;241;43m=\u001b[39;49m\u001b[38;5;124;43m\"\u001b[39;49m\u001b[38;5;124;43mignore\u001b[39;49m\u001b[38;5;124;43m\"\u001b[39;49m\u001b[43m,\u001b[49m\u001b[43m \u001b[49m\u001b[43mdrop\u001b[49m\u001b[38;5;241;43m=\u001b[39;49m\u001b[38;5;124;43m\"\u001b[39;49m\u001b[38;5;124;43mfirst\u001b[39;49m\u001b[38;5;124;43m\"\u001b[39;49m\u001b[43m,\u001b[49m\u001b[43m \u001b[49m\u001b[43msparse\u001b[49m\u001b[38;5;241;43m=\u001b[39;49m\u001b[38;5;28;43;01mFalse\u001b[39;49;00m\u001b[43m)\u001b[49m),\n\u001b[1;32m     10\u001b[0m ])\n\u001b[1;32m     11\u001b[0m pre \u001b[38;5;241m=\u001b[39m ColumnTransformer([(\u001b[38;5;124m\"\u001b[39m\u001b[38;5;124mcat\u001b[39m\u001b[38;5;124m\"\u001b[39m, cat_pipe, [\u001b[38;5;124m\"\u001b[39m\u001b[38;5;124mCar Model\u001b[39m\u001b[38;5;124m\"\u001b[39m])], remainder\u001b[38;5;241m=\u001b[39m\u001b[38;5;124m\"\u001b[39m\u001b[38;5;124mpassthrough\u001b[39m\u001b[38;5;124m\"\u001b[39m)\n\u001b[1;32m     12\u001b[0m pipe \u001b[38;5;241m=\u001b[39m Pipeline([(\u001b[38;5;124m\"\u001b[39m\u001b[38;5;124mpre\u001b[39m\u001b[38;5;124m\"\u001b[39m, pre), (\u001b[38;5;124m\"\u001b[39m\u001b[38;5;124mest\u001b[39m\u001b[38;5;124m\"\u001b[39m, LinearRegression())])\u001b[38;5;241m.\u001b[39mfit(X, y)\n",
      "\u001b[0;31mTypeError\u001b[0m: OneHotEncoder.__init__() got an unexpected keyword argument 'sparse'"
     ]
    }
   ],
   "source": [
    "#Build both pipelines\n",
    "PIPE_DUMMY, PIPE_LABEL = ensure_pipelines()\n",
    "\n",
    "# Read CSV once to make drop down list\n",
    "DF_ALL = pd.read_csv(CSV_PATH)\n",
    "MODEL_CHOICES = sorted(DF_ALL[\"Car Model\"].dropna().unique().tolist())"
   ]
  },
  {
   "cell_type": "code",
   "execution_count": null,
   "id": "b3b0ab10",
   "metadata": {},
   "outputs": [],
   "source": [
    "def calculate_price():\n",
    "    name = (car_model.get() or \"\").strip()\n",
    "    if not name:\n",
    "        result_label.config(text=\"Select a car model.\"); return\n",
    "    try:\n",
    "        age = int(age_entry.get())\n",
    "        mileage = int(mileage_entry.get())\n",
    "    except ValueError:\n",
    "        result_label.config(text=\"Enter valid integers for age and mileage.\"); return\n",
    "\n",
    "    row = pd.DataFrame([{\"Car Model\": name, \"Mileage\": mileage, \"Age(yrs)\": age}])\n",
    "    pipe = PIPE_DUMMY if encoding_choice.get() == \"dummy\" else PIPE_LABEL\n",
    "    try:\n",
    "        pred = float(pipe.predict(row)[0])\n",
    "        result_label.config(text=f\"Estimated Price: ${pred:,.2f}\")\n",
    "    except Exception as e:\n",
    "        messagebox.showerror(\"Prediction error\", str(e))"
   ]
  },
  {
   "cell_type": "code",
   "execution_count": null,
   "id": "24903028",
   "metadata": {},
   "outputs": [],
   "source": [
    "def reset_fields():\n",
    "    car_model.set(\"\")\n",
    "    age_entry.delete(0, tk.END)\n",
    "    mileage_entry.delete(0, tk.END)\n",
    "    result_label.config(text=\"Estimated Price: \")"
   ]
  },
  {
   "cell_type": "code",
   "execution_count": null,
   "id": "85a003b3",
   "metadata": {},
   "outputs": [],
   "source": [
    "# Tkinter standard GUI\n",
    "root = tk.Tk()\n",
    "root.title(\"Car Price Estimator\")\n",
    "root.geometry(\"420x320\")\n",
    "\n",
    "tk.Label(root, text=\"Encoding Strategy:\").pack(pady=(8, 0))\n",
    "encoding_choice = tk.StringVar(value=\"dummy\")\n",
    "rb = tk.Frame(root); rb.pack()\n",
    "tk.Radiobutton(rb, text=\"Dummy variables\", variable=encoding_choice, value=\"dummy\").grid(row=0, column=0, padx=6)\n",
    "tk.Radiobutton(rb, text=\"Label → One-Hot\", variable=encoding_choice, value=\"label_then_ohe\").grid(row=0, column=1, padx=6)\n",
    "\n",
    "tk.Label(root, text=\"Car Model:\").pack(pady=(10, 0))\n",
    "car_model = ttk.Combobox(root, values=MODEL_CHOICES, state=\"readonly\"); car_model.pack()\n",
    "\n",
    "tk.Label(root, text=\"Age (years):\").pack(pady=(10, 0))\n",
    "age_entry = tk.Entry(root); age_entry.pack()\n",
    "\n",
    "tk.Label(root, text=\"Mileage (km):\").pack(pady=(10, 0))\n",
    "mileage_entry = tk.Entry(root); mileage_entry.pack()\n",
    "\n",
    "result_label = tk.Label(root, text=\"Estimated Price: \", font=(\"Arial\", 12))\n",
    "result_label.pack(pady=12)\n",
    "\n",
    "btn = tk.Frame(root); btn.pack(pady=10)\n",
    "tk.Button(btn, text=\"Calculate Price\", command=calculate_price).grid(row=0, column=0, padx=6)\n",
    "tk.Button(btn, text=\"Reset\", command=reset_fields).grid(row=0, column=1, padx=6)\n",
    "\n",
    "root.mainloop()"
   ]
  }
 ],
 "metadata": {
  "kernelspec": {
   "display_name": "Python 3",
   "language": "python",
   "name": "python3"
  },
  "language_info": {
   "codemirror_mode": {
    "name": "ipython",
    "version": 3
   },
   "file_extension": ".py",
   "mimetype": "text/x-python",
   "name": "python",
   "nbconvert_exporter": "python",
   "pygments_lexer": "ipython3",
   "version": "3.10.6"
  }
 },
 "nbformat": 4,
 "nbformat_minor": 5
}
