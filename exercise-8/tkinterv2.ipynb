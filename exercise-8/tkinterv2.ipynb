{
 "cells": [
  {
   "cell_type": "code",
   "execution_count": 1,
   "id": "dfd4600a",
   "metadata": {},
   "outputs": [],
   "source": [
    "import joblib\n",
    "import tkinter as tk\n",
    "from tkinter import ttk, messagebox\n",
    "import pandas as pd"
   ]
  },
  {
   "cell_type": "code",
   "execution_count": 2,
   "id": "6f93e678",
   "metadata": {},
   "outputs": [],
   "source": [
    "# (FOR PROFESSOR) Change name of .joblib to load up modles\n",
    "DUMMY_PATH = \"model_dummy_pipeline.joblib\"\n",
    "LABEL_OHE_PATH = \"model_label_ohe_pipeline.joblib\""
   ]
  },
  {
   "cell_type": "code",
   "execution_count": 3,
   "id": "32d3f111",
   "metadata": {},
   "outputs": [],
   "source": [
    "PIPE_DUMMY = joblib.load(DUMMY_PATH)\n",
    "PIPE_LABEL = joblib.load(LABEL_OHE_PATH)"
   ]
  },
  {
   "cell_type": "code",
   "execution_count": 4,
   "id": "9b1e8539",
   "metadata": {},
   "outputs": [],
   "source": [
    "CATEGORIES = [\"Audi A5\", \"BMW X5\", \"Mercedez Benz C class\"]\n",
    "MODEL_CHOICES = sorted(CATEGORIES)"
   ]
  },
  {
   "cell_type": "code",
   "execution_count": 5,
   "id": "92ae6a14",
   "metadata": {},
   "outputs": [],
   "source": [
    "def calculate_price():\n",
    "    name = (car_model.get() or \"\").strip()\n",
    "    if not name:\n",
    "        result_label.config(text=\"Select a car model.\"); return\n",
    "    try:\n",
    "        age = int(age_entry.get())\n",
    "        mileage = int(mileage_entry.get())\n",
    "    except ValueError:\n",
    "        result_label.config(text=\"Enter valid integers for age and mileage.\"); return\n",
    "\n",
    "    row = pd.DataFrame([{\"Car Model\": name, \"Mileage\": mileage, \"Age(yrs)\": age}])\n",
    "    pipe = PIPE_DUMMY if encoding_choice.get() == \"dummy\" else PIPE_LABEL\n",
    "    try:\n",
    "        pred = float(pipe.predict(row)[0])\n",
    "        result_label.config(text=f\"Estimated Price: ${pred:,.2f}\")\n",
    "    except Exception as e:\n",
    "        messagebox.showerror(\"Prediction error\", str(e))"
   ]
  },
  {
   "cell_type": "code",
   "execution_count": 6,
   "id": "04b37b1e",
   "metadata": {},
   "outputs": [],
   "source": [
    "def reset_fields():\n",
    "    car_model.set(\"\")\n",
    "    age_entry.delete(0, tk.END)\n",
    "    mileage_entry.delete(0, tk.END)\n",
    "    result_label.config(text=\"Estimated Price: \")"
   ]
  },
  {
   "cell_type": "code",
   "execution_count": 7,
   "id": "27387762",
   "metadata": {},
   "outputs": [],
   "source": [
    "# Tkinter GUI\n",
    "root = tk.Tk()\n",
    "root.title(\"Car Price Estimator\")\n",
    "root.geometry(\"420x320\")\n",
    "\n",
    "tk.Label(root, text=\"Encoding Strategy:\").pack(pady=(8, 0))\n",
    "encoding_choice = tk.StringVar(value=\"dummy\")\n",
    "rb = tk.Frame(root); rb.pack()\n",
    "tk.Radiobutton(rb, text=\"Dummy variables\", variable=encoding_choice, value=\"dummy\").grid(row=0, column=0, padx=6)\n",
    "tk.Radiobutton(rb, text=\"Label → One-Hot\", variable=encoding_choice, value=\"label_then_ohe\").grid(row=0, column=1, padx=6)\n",
    "\n",
    "tk.Label(root, text=\"Car Model:\").pack(pady=(10, 0))\n",
    "car_model = ttk.Combobox(root, values=MODEL_CHOICES, state=\"readonly\"); car_model.pack()\n",
    "\n",
    "tk.Label(root, text=\"Age (years):\").pack(pady=(10, 0))\n",
    "age_entry = tk.Entry(root); age_entry.pack()\n",
    "\n",
    "tk.Label(root, text=\"Mileage (km):\").pack(pady=(10, 0))\n",
    "mileage_entry = tk.Entry(root); mileage_entry.pack()\n",
    "\n",
    "result_label = tk.Label(root, text=\"Estimated Price: \", font=(\"Arial\", 12))\n",
    "result_label.pack(pady=12)\n",
    "\n",
    "btn = tk.Frame(root); btn.pack(pady=10)\n",
    "tk.Button(btn, text=\"Calculate Price\", command=calculate_price).grid(row=0, column=0, padx=6)\n",
    "tk.Button(btn, text=\"Reset\", command=reset_fields).grid(row=0, column=1, padx=6)\n",
    "\n",
    "root.mainloop()"
   ]
  }
 ],
 "metadata": {
  "kernelspec": {
   "display_name": "Python 3",
   "language": "python",
   "name": "python3"
  },
  "language_info": {
   "codemirror_mode": {
    "name": "ipython",
    "version": 3
   },
   "file_extension": ".py",
   "mimetype": "text/x-python",
   "name": "python",
   "nbconvert_exporter": "python",
   "pygments_lexer": "ipython3",
   "version": "3.10.6"
  }
 },
 "nbformat": 4,
 "nbformat_minor": 5
}
