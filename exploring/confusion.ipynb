{
 "cells": [
  {
   "cell_type": "code",
   "execution_count": null,
   "id": "8c74084f",
   "metadata": {},
   "outputs": [],
   "source": [
    "import pandas as pd\n",
    "import numpy as np\n",
    "from sklearn import linear_model\n",
    "from sklearn.model_selection import train_test_split\n",
    "from sklearn.metrics import confusion_matrix, ConfusionMatrixDisplay, classification_report, accuracy_score\n",
    "from sklearn.linear_model import LogisticRegression\n",
    "import matplotlib.pyplot as plt\n",
    "import joblib"
   ]
  },
  {
   "cell_type": "code",
   "execution_count": null,
   "id": "9dbce1a5",
   "metadata": {},
   "outputs": [],
   "source": [
    "df = pd.read_csv(\"canada_per_capita_income.csv\")\n",
    "df.head()"
   ]
  },
  {
   "cell_type": "code",
   "execution_count": null,
   "id": "21b9e3f1",
   "metadata": {},
   "outputs": [],
   "source": [
    "model = linear_model.LinearRegression()\n",
    "model.fit(df[['year']], df['income'])\n",
    "\n",
    "# Display slope and intercept\n",
    "print(\"Coefficient:\", model.coef_)\n",
    "print(\"Intercept:\", model.intercept_)\n",
    "\n",
    "# Predict income for the year 2030\n",
    "prediction_2030 = model.predict(pd.DataFrame([[2030]], columns=[\"year\"]))\n",
    "print(\"Predicted income for 2030:\", prediction_2030[0])"
   ]
  },
  {
   "cell_type": "code",
   "execution_count": null,
   "id": "3c1f3bc9",
   "metadata": {},
   "outputs": [],
   "source": [
    "joblib.dump(model, 'model_joblib')\n",
    "\n",
    "# Load model\n",
    "mj = joblib.load('model_joblib')\n",
    "\n",
    "# Predict for 1965 using loaded model\n",
    "print(\"Prediction for 1965:\", mj.predict(pd.DataFrame([[1965]], columns=[\"year\"]))[0])\n",
    "print(\"Coefficient:\", mj.coef_)\n",
    "print(\"Intercept:\", mj.intercept_)"
   ]
  },
  {
   "cell_type": "code",
   "execution_count": null,
   "id": "1972668b",
   "metadata": {},
   "outputs": [],
   "source": [
    "# Create a binary target: 1 = above median income, 0 = below median\n",
    "median_income = df['income'].median()\n",
    "df['income_class'] = np.where(df['income'] >= median_income, 1, 0)\n",
    "\n",
    "df.head()\n"
   ]
  },
  {
   "cell_type": "code",
   "execution_count": null,
   "id": "ecd837dc",
   "metadata": {},
   "outputs": [],
   "source": [
    "X = df[['year']]\n",
    "y = df['income_class']\n",
    "\n",
    "X_train, X_test, y_train, y_test = train_test_split(X, y, test_size=0.3, random_state=42, stratify=y)\n"
   ]
  },
  {
   "cell_type": "code",
   "execution_count": null,
   "id": "c72a347e",
   "metadata": {},
   "outputs": [],
   "source": [
    "# Train a classification model on the new categorical target\n",
    "clf = LogisticRegression()\n",
    "clf.fit(X_train, y_train)\n",
    "\n",
    "# Make predictions\n",
    "y_pred = clf.predict(X_test)\n"
   ]
  },
  {
   "cell_type": "code",
   "execution_count": null,
   "id": "8ad32bca",
   "metadata": {},
   "outputs": [],
   "source": [
    "# Accuracy and classification report\n",
    "acc = accuracy_score(y_test, y_pred)\n",
    "print(f\"Classification Accuracy: {acc:.3f}\\n\")\n",
    "\n",
    "print(\"Classification Report:\\n\")\n",
    "print(classification_report(y_test, y_pred))\n"
   ]
  },
  {
   "cell_type": "code",
   "execution_count": null,
   "id": "e20fd3a0",
   "metadata": {},
   "outputs": [],
   "source": [
    "# Compute confusion matrix\n",
    "cm = confusion_matrix(y_test, y_pred)\n",
    "\n",
    "# Display confusion matrix\n",
    "disp = ConfusionMatrixDisplay(confusion_matrix=cm, display_labels=[\"Below Median\", \"Above Median\"])\n",
    "\n",
    "fig = plt.figure()\n",
    "disp.plot(values_format=\"d\")\n",
    "plt.title(\"Confusion Matrix — Income Above/Below Median\")\n",
    "plt.tight_layout()\n",
    "plt.show()\n"
   ]
  },
  {
   "cell_type": "code",
   "execution_count": null,
   "id": "d09a6516",
   "metadata": {},
   "outputs": [],
   "source": [
    "# Predict whether future years (e.g. 2030, 2040) are above or below median income\n",
    "future_years = pd.DataFrame({'year': [2030, 2040, 2050]})\n",
    "future_class_pred = clf.predict(future_years)\n",
    "\n",
    "for year, cls in zip(future_years['year'], future_class_pred):\n",
    "    label = \"Above Median\" if cls == 1 else \"Below Median\"\n",
    "    print(f\"{year}: {label}\")\n"
   ]
  }
 ],
 "metadata": {
  "kernelspec": {
   "display_name": "Python 3",
   "language": "python",
   "name": "python3"
  },
  "language_info": {
   "codemirror_mode": {
    "name": "ipython",
    "version": 3
   },
   "file_extension": ".py",
   "mimetype": "text/x-python",
   "name": "python",
   "nbconvert_exporter": "python",
   "pygments_lexer": "ipython3",
   "version": "3.10.6"
  }
 },
 "nbformat": 4,
 "nbformat_minor": 5
}
