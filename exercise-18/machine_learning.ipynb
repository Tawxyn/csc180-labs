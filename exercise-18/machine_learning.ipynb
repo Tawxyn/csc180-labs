{
 "cells": [
  {
   "cell_type": "code",
   "execution_count": 2,
   "id": "f66fea15",
   "metadata": {},
   "outputs": [],
   "source": [
    "import numpy as np\n",
    "from sklearn.datasets import load_digits\n",
    "from sklearn.model_selection import StratifiedKFold\n",
    "from sklearn.model_selection import cross_val_score\n",
    "\n",
    "from sklearn.svm import SVC\n",
    "from sklearn.ensemble import RandomForestClassifier\n",
    "from sklearn.tree import DecisionTreeClassifier\n",
    "from sklearn.linear_model import LogisticRegression\n",
    "from sklearn.naive_bayes import GaussianNB, MultinomialNB\n",
    "\n",
    "digits = load_digits()\n",
    "X, y = digits.data, digits.target"
   ]
  },
  {
   "cell_type": "code",
   "execution_count": 3,
   "id": "a4b6a6e3",
   "metadata": {},
   "outputs": [],
   "source": [
    "kf = StratifiedKFold(n_splits=3, shuffle=True, random_state=42)"
   ]
  },
  {
   "cell_type": "code",
   "execution_count": 4,
   "id": "41e1dd95",
   "metadata": {},
   "outputs": [],
   "source": [
    "models = {\n",
    "    \"Logistic Regression\": LogisticRegression(max_iter=1000),\n",
    "    \"SVC (poly)\": SVC(kernel='poly'),\n",
    "    \"Random Forest\": RandomForestClassifier(n_estimators=40, random_state=42),\n",
    "    \"Decision Tree\": DecisionTreeClassifier(random_state=42),\n",
    "    \"GaussianNB\": GaussianNB(),\n",
    "    \"MultinomialNB\": MultinomialNB()\n",
    "}"
   ]
  },
  {
   "cell_type": "code",
   "execution_count": 7,
   "id": "d08ce916",
   "metadata": {},
   "outputs": [
    {
     "name": "stdout",
     "output_type": "stream",
     "text": [
      "Logistic Regression  folds=['0.96160267', '0.97829716', '0.96327212']  mean=0.96772398  std=0.00750737\n",
      "SVC (poly)           folds=['0.99332220', '0.98831386', '0.98664441']  mean=0.98942682  std=0.00283752\n",
      "Random Forest        folds=['0.97328881', '0.96828047', '0.97662771']  mean=0.97273233  std=0.00343039\n",
      "Decision Tree        folds=['0.84641068', '0.83806344', '0.85475793']  mean=0.84641068  std=0.00681550\n",
      "GaussianNB           folds=['0.83305509', '0.84307179', '0.84474124']  mean=0.84028937  std=0.00516061\n",
      "MultinomialNB        folds=['0.89482471', '0.90651085', '0.90484140']  mean=0.90205899  std=0.00516061\n"
     ]
    }
   ],
   "source": [
    "# Evaluate models\n",
    "for name, model in models.items():\n",
    "    scores = cross_val_score(model, X, y, cv=kf)\n",
    "    print(f\"{name:20s} folds={[f'{s:.8f}' for s in scores]}  mean={np.mean(scores):.8f}  std={np.std(scores):.8f}\")"
   ]
  }
 ],
 "metadata": {
  "kernelspec": {
   "display_name": "Python 3",
   "language": "python",
   "name": "python3"
  },
  "language_info": {
   "codemirror_mode": {
    "name": "ipython",
    "version": 3
   },
   "file_extension": ".py",
   "mimetype": "text/x-python",
   "name": "python",
   "nbconvert_exporter": "python",
   "pygments_lexer": "ipython3",
   "version": "3.10.6"
  }
 },
 "nbformat": 4,
 "nbformat_minor": 5
}
